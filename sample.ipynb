{
 "cells": [
  {
   "cell_type": "markdown",
   "id": "fce78a08-df88-42ca-9020-e29f268740e1",
   "metadata": {},
   "source": [
    "## Walkthru sample notebook"
   ]
  },
  {
   "cell_type": "markdown",
   "id": "756e027e-cfca-4366-9fff-6f5f064b842f",
   "metadata": {},
   "source": [
    "Here is how I calculate 1+1"
   ]
  },
  {
   "cell_type": "code",
   "execution_count": 1,
   "id": "6f2cdd9f-4883-4095-a587-a8d9fbec62f3",
   "metadata": {},
   "outputs": [
    {
     "data": {
      "text/plain": [
       "2"
      ]
     },
     "execution_count": 1,
     "metadata": {},
     "output_type": "execute_result"
    }
   ],
   "source": [
    "1+1"
   ]
  },
  {
   "cell_type": "markdown",
   "id": "960ee787-db90-42f9-96e7-c5f37ecfe60a",
   "metadata": {},
   "source": [
    "# Here is how I caculate `sin`"
   ]
  },
  {
   "cell_type": "code",
   "execution_count": 2,
   "id": "93de726a-720c-469a-8783-b5fa6bc0cd97",
   "metadata": {},
   "outputs": [],
   "source": [
    "from numpy import *"
   ]
  },
  {
   "cell_type": "code",
   "execution_count": 4,
   "id": "62fee554-127e-44f1-94a9-6087ddbc44e3",
   "metadata": {},
   "outputs": [
    {
     "data": {
      "text/plain": [
       "array([0.84147098, 1.        ])"
      ]
     },
     "execution_count": 4,
     "metadata": {},
     "output_type": "execute_result"
    }
   ],
   "source": [
    "a = array([1.0, pi/2])\n",
    "sin(a)"
   ]
  },
  {
   "cell_type": "code",
   "execution_count": null,
   "id": "bf1db24c-79c7-456e-a9eb-c9d92fd72c67",
   "metadata": {},
   "outputs": [],
   "source": []
  }
 ],
 "metadata": {
  "kernelspec": {
   "display_name": "Python 3 (ipykernel)",
   "language": "python",
   "name": "python3"
  },
  "language_info": {
   "codemirror_mode": {
    "name": "ipython",
    "version": 3
   },
   "file_extension": ".py",
   "mimetype": "text/x-python",
   "name": "python",
   "nbconvert_exporter": "python",
   "pygments_lexer": "ipython3",
   "version": "3.9.10"
  }
 },
 "nbformat": 4,
 "nbformat_minor": 5
}
